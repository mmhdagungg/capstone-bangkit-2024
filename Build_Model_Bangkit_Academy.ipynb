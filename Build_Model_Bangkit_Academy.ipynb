{
  "cells": [
    {
      "cell_type": "markdown",
      "metadata": {
        "id": "Sa3pCPd6cZBZ"
      },
      "source": [
        "Trial Data Bangkit Academy"
      ]
    },
    {
      "cell_type": "code",
      "execution_count": 1,
      "metadata": {
        "id": "IDUN5IZBcYEb"
      },
      "outputs": [
        {
          "name": "stderr",
          "output_type": "stream",
          "text": [
            "Matplotlib is building the font cache; this may take a moment.\n"
          ]
        }
      ],
      "source": [
        "#import dataset\n",
        "import pandas as pd\n",
        "import numpy as np\n",
        "import matplotlib.pyplot as plt\n",
        "import seaborn as sns"
      ]
    },
    {
      "cell_type": "code",
      "execution_count": 4,
      "metadata": {
        "colab": {
          "base_uri": "https://localhost:8080/",
          "height": 351
        },
        "id": "IGABbzcpdEvQ",
        "outputId": "8c72ef3a-6ae9-40de-8d63-e1364c5010bb"
      },
      "outputs": [
        {
          "name": "stdout",
          "output_type": "stream",
          "text": [
            "      Tanggal  Pemasukan  Pengeluaran  Uang Tersedia Keterangan\n",
            "0  2023-01-01     149679        98608          51071      Bonus\n",
            "1  2023-01-01      77668        37506          91233  Investasi\n",
            "2  2023-01-01     116865        41625         166473    Hiburan\n",
            "3  2023-01-01        903        25707         141669       Gaji\n",
            "4  2023-01-01     145735       148789         138615  Investasi\n"
          ]
        }
      ],
      "source": [
        "url = 'https://raw.githubusercontent.com/mmhdagungg/capstone-bangkit-2024/refs/heads/main/dataset_pemasukan_pengeluaran_2023.csv'\n",
        "df = pd.read_csv(url)\n",
        "print(df.head())"
      ]
    },
    {
      "cell_type": "code",
      "execution_count": 5,
      "metadata": {
        "id": "JyVcjaU7eVHi"
      },
      "outputs": [
        {
          "name": "stdout",
          "output_type": "stream",
          "text": [
            "<class 'pandas.core.frame.DataFrame'>\n",
            "RangeIndex: 100000 entries, 0 to 99999\n",
            "Data columns (total 5 columns):\n",
            " #   Column         Non-Null Count   Dtype \n",
            "---  ------         --------------   ----- \n",
            " 0   Tanggal        100000 non-null  object\n",
            " 1   Pemasukan      100000 non-null  int64 \n",
            " 2   Pengeluaran    100000 non-null  int64 \n",
            " 3   Uang Tersedia  100000 non-null  int64 \n",
            " 4   Keterangan     100000 non-null  object\n",
            "dtypes: int64(3), object(2)\n",
            "memory usage: 3.8+ MB\n"
          ]
        }
      ],
      "source": [
        "df.info()"
      ]
    },
    {
      "cell_type": "code",
      "execution_count": 6,
      "metadata": {
        "id": "WrZicdzgeWVE"
      },
      "outputs": [
        {
          "data": {
            "text/html": [
              "<div>\n",
              "<style scoped>\n",
              "    .dataframe tbody tr th:only-of-type {\n",
              "        vertical-align: middle;\n",
              "    }\n",
              "\n",
              "    .dataframe tbody tr th {\n",
              "        vertical-align: top;\n",
              "    }\n",
              "\n",
              "    .dataframe thead th {\n",
              "        text-align: right;\n",
              "    }\n",
              "</style>\n",
              "<table border=\"1\" class=\"dataframe\">\n",
              "  <thead>\n",
              "    <tr style=\"text-align: right;\">\n",
              "      <th></th>\n",
              "      <th>Pemasukan</th>\n",
              "      <th>Pengeluaran</th>\n",
              "      <th>Uang Tersedia</th>\n",
              "    </tr>\n",
              "  </thead>\n",
              "  <tbody>\n",
              "    <tr>\n",
              "      <th>count</th>\n",
              "      <td>100000.000000</td>\n",
              "      <td>100000.00000</td>\n",
              "      <td>1.000000e+05</td>\n",
              "    </tr>\n",
              "    <tr>\n",
              "      <th>mean</th>\n",
              "      <td>100027.997720</td>\n",
              "      <td>75154.01473</td>\n",
              "      <td>1.229700e+09</td>\n",
              "    </tr>\n",
              "    <tr>\n",
              "      <th>std</th>\n",
              "      <td>57608.667578</td>\n",
              "      <td>43205.01457</td>\n",
              "      <td>7.261689e+08</td>\n",
              "    </tr>\n",
              "    <tr>\n",
              "      <th>min</th>\n",
              "      <td>3.000000</td>\n",
              "      <td>8.00000</td>\n",
              "      <td>3.457800e+04</td>\n",
              "    </tr>\n",
              "    <tr>\n",
              "      <th>25%</th>\n",
              "      <td>50260.000000</td>\n",
              "      <td>37878.75000</td>\n",
              "      <td>5.908395e+08</td>\n",
              "    </tr>\n",
              "    <tr>\n",
              "      <th>50%</th>\n",
              "      <td>99980.000000</td>\n",
              "      <td>75244.00000</td>\n",
              "      <td>1.223426e+09</td>\n",
              "    </tr>\n",
              "    <tr>\n",
              "      <th>75%</th>\n",
              "      <td>149924.000000</td>\n",
              "      <td>112337.25000</td>\n",
              "      <td>1.868056e+09</td>\n",
              "    </tr>\n",
              "    <tr>\n",
              "      <th>max</th>\n",
              "      <td>199993.000000</td>\n",
              "      <td>149999.00000</td>\n",
              "      <td>2.487398e+09</td>\n",
              "    </tr>\n",
              "  </tbody>\n",
              "</table>\n",
              "</div>"
            ],
            "text/plain": [
              "           Pemasukan   Pengeluaran  Uang Tersedia\n",
              "count  100000.000000  100000.00000   1.000000e+05\n",
              "mean   100027.997720   75154.01473   1.229700e+09\n",
              "std     57608.667578   43205.01457   7.261689e+08\n",
              "min         3.000000       8.00000   3.457800e+04\n",
              "25%     50260.000000   37878.75000   5.908395e+08\n",
              "50%     99980.000000   75244.00000   1.223426e+09\n",
              "75%    149924.000000  112337.25000   1.868056e+09\n",
              "max    199993.000000  149999.00000   2.487398e+09"
            ]
          },
          "execution_count": 6,
          "metadata": {},
          "output_type": "execute_result"
        }
      ],
      "source": [
        "df.describe()"
      ]
    }
  ],
  "metadata": {
    "colab": {
      "provenance": []
    },
    "kernelspec": {
      "display_name": "Python 3",
      "name": "python3"
    },
    "language_info": {
      "codemirror_mode": {
        "name": "ipython",
        "version": 3
      },
      "file_extension": ".py",
      "mimetype": "text/x-python",
      "name": "python",
      "nbconvert_exporter": "python",
      "pygments_lexer": "ipython3",
      "version": "3.12.6"
    }
  },
  "nbformat": 4,
  "nbformat_minor": 0
}
